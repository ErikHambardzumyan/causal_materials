{
 "cells": [
  {
   "cell_type": "code",
   "execution_count": 22,
   "id": "25bb5d41",
   "metadata": {
    "ExecuteTime": {
     "end_time": "2022-05-04T13:39:54.091058Z",
     "start_time": "2022-05-04T13:39:54.088338Z"
    }
   },
   "outputs": [],
   "source": [
    "import numpy as np"
   ]
  },
  {
   "cell_type": "code",
   "execution_count": 2,
   "id": "ba85fba9",
   "metadata": {
    "ExecuteTime": {
     "end_time": "2022-05-04T13:36:04.697759Z",
     "start_time": "2022-05-04T13:36:03.431526Z"
    }
   },
   "outputs": [
    {
     "name": "stderr",
     "output_type": "stream",
     "text": [
      "R[write to console]: Loading required package: MASS\n",
      "\n",
      "R[write to console]: ## \n",
      "##  Matching (Version 4.9-11, Build Date: 2021-10-18)\n",
      "##  See http://sekhon.berkeley.edu/matching for additional documentation.\n",
      "##  Please cite software as:\n",
      "##   Jasjeet S. Sekhon. 2011. ``Multivariate and Propensity Score Matching\n",
      "##   Software with Automated Balance Optimization: The Matching package for R.''\n",
      "##   Journal of Statistical Software, 42(7): 1-52. \n",
      "##\n",
      "\n",
      "\n"
     ]
    },
    {
     "data": {
      "text/html": [
       "\n",
       "        <span>StrVector with 10 elements.</span>\n",
       "        <table>\n",
       "        <tbody>\n",
       "          <tr>\n",
       "          \n",
       "            <td>\n",
       "            'Matching'\n",
       "            </td>\n",
       "          \n",
       "            <td>\n",
       "            'MASS'\n",
       "            </td>\n",
       "          \n",
       "            <td>\n",
       "            'tools'\n",
       "            </td>\n",
       "          \n",
       "            <td>\n",
       "            ...\n",
       "            </td>\n",
       "          \n",
       "            <td>\n",
       "            'datasets'\n",
       "            </td>\n",
       "          \n",
       "            <td>\n",
       "            'methods'\n",
       "            </td>\n",
       "          \n",
       "            <td>\n",
       "            'base'\n",
       "            </td>\n",
       "          \n",
       "          </tr>\n",
       "        </tbody>\n",
       "        </table>\n",
       "        "
      ],
      "text/plain": [
       "<rpy2.robjects.vectors.StrVector object at 0x104452c00> [RTYPES.STRSXP]\n",
       "R classes: ('character',)\n",
       "['Matching', 'MASS', 'tools', 'stats', ..., 'utils', 'datasets', 'methods', 'base']"
      ]
     },
     "execution_count": 2,
     "metadata": {},
     "output_type": "execute_result"
    }
   ],
   "source": [
    "import dowhy\n",
    "from dowhy import CausalModel\n",
    "from rpy2.robjects import r as R\n",
    "%load_ext rpy2.ipython\n",
    "\n",
    "#%R install.packages(\"Matching\")\n",
    "%R library(Matching)\n"
   ]
  },
  {
   "cell_type": "markdown",
   "id": "f872b1a4",
   "metadata": {},
   "source": [
    "## Lalonde data"
   ]
  },
  {
   "cell_type": "markdown",
   "id": "6f2cb2e4",
   "metadata": {
    "ExecuteTime": {
     "end_time": "2022-05-04T15:26:57.197849Z",
     "start_time": "2022-05-04T15:26:57.192047Z"
    }
   },
   "source": [
    "The study looked at the effectiveness of a job training program (the treatment) on the real earnings of an individual, a couple years after completion of the program.\n",
    "\n",
    "The data consists of a number of demographic variables (age, race, academic background, and previous real earnings), as well as a treatment indicator, and the real earnings in the year 1978 (the response).\n",
    "\n",
    "Robert Lalonde, \"Evaluating the Econometric Evaluations of Training Programs\", American Economic Review, Vol. 76, pp. 604-620\n",
    "\n"
   ]
  },
  {
   "cell_type": "code",
   "execution_count": 3,
   "id": "009d5ad4",
   "metadata": {
    "ExecuteTime": {
     "end_time": "2022-05-04T13:36:21.326496Z",
     "start_time": "2022-05-04T13:36:21.294056Z"
    }
   },
   "outputs": [],
   "source": [
    "%R data(lalonde)\n",
    "%R -o lalonde\n",
    "lalonde = lalonde.astype({'treat':'bool'}, copy=False)"
   ]
  },
  {
   "cell_type": "code",
   "execution_count": 4,
   "id": "69edc129",
   "metadata": {
    "ExecuteTime": {
     "end_time": "2022-05-04T13:36:24.638073Z",
     "start_time": "2022-05-04T13:36:24.611347Z"
    }
   },
   "outputs": [
    {
     "data": {
      "text/html": [
       "<div>\n",
       "<style scoped>\n",
       "    .dataframe tbody tr th:only-of-type {\n",
       "        vertical-align: middle;\n",
       "    }\n",
       "\n",
       "    .dataframe tbody tr th {\n",
       "        vertical-align: top;\n",
       "    }\n",
       "\n",
       "    .dataframe thead th {\n",
       "        text-align: right;\n",
       "    }\n",
       "</style>\n",
       "<table border=\"1\" class=\"dataframe\">\n",
       "  <thead>\n",
       "    <tr style=\"text-align: right;\">\n",
       "      <th></th>\n",
       "      <th>age</th>\n",
       "      <th>educ</th>\n",
       "      <th>black</th>\n",
       "      <th>hisp</th>\n",
       "      <th>married</th>\n",
       "      <th>nodegr</th>\n",
       "      <th>re74</th>\n",
       "      <th>re75</th>\n",
       "      <th>re78</th>\n",
       "      <th>u74</th>\n",
       "      <th>u75</th>\n",
       "      <th>treat</th>\n",
       "    </tr>\n",
       "  </thead>\n",
       "  <tbody>\n",
       "    <tr>\n",
       "      <th>1</th>\n",
       "      <td>37</td>\n",
       "      <td>11</td>\n",
       "      <td>1</td>\n",
       "      <td>0</td>\n",
       "      <td>1</td>\n",
       "      <td>1</td>\n",
       "      <td>0.0</td>\n",
       "      <td>0.0</td>\n",
       "      <td>9930.05</td>\n",
       "      <td>1</td>\n",
       "      <td>1</td>\n",
       "      <td>True</td>\n",
       "    </tr>\n",
       "    <tr>\n",
       "      <th>2</th>\n",
       "      <td>22</td>\n",
       "      <td>9</td>\n",
       "      <td>0</td>\n",
       "      <td>1</td>\n",
       "      <td>0</td>\n",
       "      <td>1</td>\n",
       "      <td>0.0</td>\n",
       "      <td>0.0</td>\n",
       "      <td>3595.89</td>\n",
       "      <td>1</td>\n",
       "      <td>1</td>\n",
       "      <td>True</td>\n",
       "    </tr>\n",
       "    <tr>\n",
       "      <th>3</th>\n",
       "      <td>30</td>\n",
       "      <td>12</td>\n",
       "      <td>1</td>\n",
       "      <td>0</td>\n",
       "      <td>0</td>\n",
       "      <td>0</td>\n",
       "      <td>0.0</td>\n",
       "      <td>0.0</td>\n",
       "      <td>24909.50</td>\n",
       "      <td>1</td>\n",
       "      <td>1</td>\n",
       "      <td>True</td>\n",
       "    </tr>\n",
       "    <tr>\n",
       "      <th>4</th>\n",
       "      <td>27</td>\n",
       "      <td>11</td>\n",
       "      <td>1</td>\n",
       "      <td>0</td>\n",
       "      <td>0</td>\n",
       "      <td>1</td>\n",
       "      <td>0.0</td>\n",
       "      <td>0.0</td>\n",
       "      <td>7506.15</td>\n",
       "      <td>1</td>\n",
       "      <td>1</td>\n",
       "      <td>True</td>\n",
       "    </tr>\n",
       "    <tr>\n",
       "      <th>5</th>\n",
       "      <td>33</td>\n",
       "      <td>8</td>\n",
       "      <td>1</td>\n",
       "      <td>0</td>\n",
       "      <td>0</td>\n",
       "      <td>1</td>\n",
       "      <td>0.0</td>\n",
       "      <td>0.0</td>\n",
       "      <td>289.79</td>\n",
       "      <td>1</td>\n",
       "      <td>1</td>\n",
       "      <td>True</td>\n",
       "    </tr>\n",
       "  </tbody>\n",
       "</table>\n",
       "</div>"
      ],
      "text/plain": [
       "   age  educ  black  hisp  married  nodegr  re74  re75      re78  u74  u75  \\\n",
       "1   37    11      1     0        1       1   0.0   0.0   9930.05    1    1   \n",
       "2   22     9      0     1        0       1   0.0   0.0   3595.89    1    1   \n",
       "3   30    12      1     0        0       0   0.0   0.0  24909.50    1    1   \n",
       "4   27    11      1     0        0       1   0.0   0.0   7506.15    1    1   \n",
       "5   33     8      1     0        0       1   0.0   0.0    289.79    1    1   \n",
       "\n",
       "   treat  \n",
       "1   True  \n",
       "2   True  \n",
       "3   True  \n",
       "4   True  \n",
       "5   True  "
      ]
     },
     "execution_count": 4,
     "metadata": {},
     "output_type": "execute_result"
    }
   ],
   "source": [
    "lalonde.head(5)"
   ]
  },
  {
   "cell_type": "code",
   "execution_count": 26,
   "id": "8573f7bc",
   "metadata": {
    "ExecuteTime": {
     "end_time": "2022-05-04T13:41:43.636301Z",
     "start_time": "2022-05-04T13:41:43.630194Z"
    }
   },
   "outputs": [],
   "source": [
    "mean_per_treatment = lalonde.groupby('treat').agg({\"re78\":np.mean}).reset_index()"
   ]
  },
  {
   "cell_type": "code",
   "execution_count": 27,
   "id": "1ffb8aa6",
   "metadata": {
    "ExecuteTime": {
     "end_time": "2022-05-04T13:41:51.236459Z",
     "start_time": "2022-05-04T13:41:51.229276Z"
    }
   },
   "outputs": [
    {
     "data": {
      "text/html": [
       "<div>\n",
       "<style scoped>\n",
       "    .dataframe tbody tr th:only-of-type {\n",
       "        vertical-align: middle;\n",
       "    }\n",
       "\n",
       "    .dataframe tbody tr th {\n",
       "        vertical-align: top;\n",
       "    }\n",
       "\n",
       "    .dataframe thead th {\n",
       "        text-align: right;\n",
       "    }\n",
       "</style>\n",
       "<table border=\"1\" class=\"dataframe\">\n",
       "  <thead>\n",
       "    <tr style=\"text-align: right;\">\n",
       "      <th></th>\n",
       "      <th>treat</th>\n",
       "      <th>re78</th>\n",
       "    </tr>\n",
       "  </thead>\n",
       "  <tbody>\n",
       "    <tr>\n",
       "      <th>0</th>\n",
       "      <td>False</td>\n",
       "      <td>4554.802283</td>\n",
       "    </tr>\n",
       "    <tr>\n",
       "      <th>1</th>\n",
       "      <td>True</td>\n",
       "      <td>6349.145368</td>\n",
       "    </tr>\n",
       "  </tbody>\n",
       "</table>\n",
       "</div>"
      ],
      "text/plain": [
       "   treat         re78\n",
       "0  False  4554.802283\n",
       "1   True  6349.145368"
      ]
     },
     "execution_count": 27,
     "metadata": {},
     "output_type": "execute_result"
    }
   ],
   "source": [
    "mean_per_treatment"
   ]
  },
  {
   "cell_type": "markdown",
   "id": "13987cfa",
   "metadata": {},
   "source": [
    "- Let $Y$ be the outcome variable re78 which is the real earnings in 1978\n",
    "- Let $X$ be the age in years\n",
    "- Let $T$ be the treatment which stands for participating in job training program\n",
    "\n",
    "Naive estimator: $\\bar{Y}_{treatment}-\\bar{Y}_{control}$"
   ]
  },
  {
   "cell_type": "code",
   "execution_count": 33,
   "id": "db0aff1c",
   "metadata": {
    "ExecuteTime": {
     "end_time": "2022-05-04T13:43:08.853908Z",
     "start_time": "2022-05-04T13:43:08.746899Z"
    }
   },
   "outputs": [
    {
     "data": {
      "image/png": "[encoded data removed]",
      "text/latex": [
       "$\\displaystyle 1794.34308487526$"
      ],
      "text/plain": [
       "1794.3430848752596"
      ]
     },
     "execution_count": 33,
     "metadata": {},
     "output_type": "execute_result"
    }
   ],
   "source": [
    "mean_treatment = float(mean_per_treatment.query(\"treat==True\")['re78'])\n",
    "mean_control = float(mean_per_treatment.query(\"treat==False\")['re78'])\n",
    "mean_treatment-mean_control"
   ]
  },
  {
   "cell_type": "markdown",
   "id": "0d5f148c",
   "metadata": {},
   "source": [
    "## Build the graph"
   ]
  },
  {
   "cell_type": "code",
   "execution_count": 14,
   "id": "dd1f4c91",
   "metadata": {
    "ExecuteTime": {
     "end_time": "2022-05-04T13:38:20.909661Z",
     "start_time": "2022-05-04T13:38:20.907141Z"
    }
   },
   "outputs": [],
   "source": [
    "graph = 'digraph {age->re78;age->treat;treat->re78}'"
   ]
  },
  {
   "cell_type": "code",
   "execution_count": 15,
   "id": "fc570271",
   "metadata": {
    "ExecuteTime": {
     "end_time": "2022-05-04T13:38:21.099454Z",
     "start_time": "2022-05-04T13:38:21.088905Z"
    }
   },
   "outputs": [],
   "source": [
    "model = CausalModel(\n",
    "    data=lalonde,\n",
    "    treatment='treat',\n",
    "    outcome='re78',\n",
    "    graph=graph)"
   ]
  },
  {
   "cell_type": "markdown",
   "id": "834d326c",
   "metadata": {},
   "source": [
    "## View the graph"
   ]
  },
  {
   "cell_type": "code",
   "execution_count": 16,
   "id": "5b0283e1",
   "metadata": {
    "ExecuteTime": {
     "end_time": "2022-05-04T13:38:21.590807Z",
     "start_time": "2022-05-04T13:38:21.424632Z"
    }
   },
   "outputs": [
    {
     "data": {
      "image/png": "[encoded data removed]",
      "text/plain": [
       "<Figure size 576x432 with 1 Axes>"
      ]
     },
     "metadata": {},
     "output_type": "display_data"
    }
   ],
   "source": [
    "model.view_model()"
   ]
  },
  {
   "cell_type": "code",
   "execution_count": 17,
   "id": "f36a020d",
   "metadata": {
    "ExecuteTime": {
     "end_time": "2022-05-04T13:38:46.446345Z",
     "start_time": "2022-05-04T13:38:46.438860Z"
    }
   },
   "outputs": [],
   "source": [
    "identified_estimand = model.identify_effect(proceed_when_unidentifiable=True)"
   ]
  },
  {
   "cell_type": "markdown",
   "id": "30e30a1a",
   "metadata": {},
   "source": [
    "## Estimate via linear regression by identifying using backdoor criterion"
   ]
  },
  {
   "cell_type": "code",
   "execution_count": 18,
   "id": "c617325d",
   "metadata": {
    "ExecuteTime": {
     "end_time": "2022-05-04T13:39:28.232617Z",
     "start_time": "2022-05-04T13:39:25.659874Z"
    }
   },
   "outputs": [],
   "source": [
    "estimate = model.estimate_effect(identified_estimand,\n",
    "                                 method_name=\"backdoor.linear_regression\")"
   ]
  },
  {
   "cell_type": "markdown",
   "id": "35648141",
   "metadata": {},
   "source": [
    "### Model:  $Y_i = \\mu_{.} + \\tau T_i+\\gamma X_i +\\epsilon_i$\n",
    "### Estimated model: $\\hat{Y}_i = \\hat{\\mu}_{.} + \\hat{\\tau} t_i+\\hat{\\gamma} x_i$\n",
    "### Estimand $\\tau=\\mathbb{E}(Y_i(1)-Y_i(0)) = \\frac{1}{n} \\sum^{n}_{i}\\left( \\mathbb{E}[Y_i|T_i=1, X_i]-\\mathbb{E}[Y_i|T_i=0, X_i]\\right)$ (by identification and model assumptions)\n"
   ]
  },
  {
   "cell_type": "markdown",
   "id": "d447c2b6",
   "metadata": {},
   "source": [
    "## Estimate of the  treatment effect estimator $\\hat{\\tau}$"
   ]
  },
  {
   "cell_type": "code",
   "execution_count": 19,
   "id": "daa0b128",
   "metadata": {
    "ExecuteTime": {
     "end_time": "2022-05-04T13:39:32.693094Z",
     "start_time": "2022-05-04T13:39:32.689954Z"
    }
   },
   "outputs": [
    {
     "name": "stdout",
     "output_type": "stream",
     "text": [
      "Causal Estimate is 1758.5747485110223\n"
     ]
    }
   ],
   "source": [
    "print(\"Causal Estimate is \" + str(estimate.value))"
   ]
  },
  {
   "cell_type": "markdown",
   "id": "bf24fb2d",
   "metadata": {},
   "source": [
    "### Estimated treatment effect interpretaiton\n",
    "With the same age levels for subjects who took the treatment we should expect around 1758.6 increase in average of the outcome (real earnings in 1978) "
   ]
  },
  {
   "cell_type": "code",
   "execution_count": null,
   "id": "25a36e21",
   "metadata": {},
   "outputs": [],
   "source": []
  },
  {
   "cell_type": "markdown",
   "id": "92356d09",
   "metadata": {},
   "source": [
    "# Appendix: regression theory for causal inference"
   ]
  },
  {
   "cell_type": "markdown",
   "id": "2582df86",
   "metadata": {},
   "source": [
    "- Let $Y_i$ be the outcome variable for the $i$th subject\n",
    "- Let $X_i$ be the constant pre-treatment covariate for the $i$th subject\n",
    "- Let $\\tau=\\mathbb{E}(Y_i(1)-Y_i(0))$ be the causal ATE estimand\n",
    "\n",
    "\n",
    "\\begin{align*}\n",
    "&\\mathbb{E}(Y(t)|X_i)=\\mu_{.}+\\tau T_i+\\gamma X_i\\\\\n",
    "&Y_i(0)=\\mu_{.}+\\gamma X_i +\\epsilon_i\\\\\n",
    "&Y_i(1)=Y_i(0) +\\tau\\\\\n",
    "\\end{align*}\n"
   ]
  },
  {
   "cell_type": "markdown",
   "id": "a7da2b79",
   "metadata": {},
   "source": [
    "### It follows that $Y_i= T_iY_i(1)+(1-T_i)Y_i(0) = \\mu_{.} + \\tau T_i+\\gamma X_i +\\epsilon_i$\n"
   ]
  },
  {
   "cell_type": "markdown",
   "id": "2a94794e",
   "metadata": {},
   "source": [
    "## Model assumptions\n",
    "1. Linearity of regression relation of $Y_i$ with $X_{i}$\n",
    "2. Exogeneity - $\\epsilon_i \\perp \\!\\!\\! \\perp T_i, X_i$\n",
    "3. Positivity - $0<P(T_i=1|X_i=x_i)<1 \\quad \\forall x$\n",
    "4. Parallel slopes (constant treatment effect $\\tau$ across all values of $X_i$)\n",
    "\n",
    "### Importance of exogeneity (which implies unconfoundedness)\n",
    "In general\n",
    "$$P(T_i=1|Y_i(0), Y_i(1), X_i)=P(T_i|\\epsilon_i, X_i)$$\n",
    "If exogeneity holds then $$P(T_i|\\epsilon_i, X_i) = P(T_i|X_i)$$\n",
    "\n",
    "### Importance of parallel slopes\n",
    "Let us assume linearity and exogeneity assumptions are true,\n",
    "also let us for the sake of illustration assume:\n",
    "$$\\mathbb{E}(Y(0))=\\mu_0+\\gamma_0X_i$$\n",
    "$$\\mathbb{E}(Y(1))=\\mu_1+\\gamma_1X_i$$\n",
    "\n",
    "\\begin{align*}\n",
    "    &\\mathbb{E}(Y_i|T_i, X_i)=\\mathbb{E}(T_i \\cdot Y_i(1) + (1-T_i)\\cdot Y_i(0)|T_i, X_i)=\\\\\n",
    "    &=\\mu_0+T_i(\\mu_1-\\mu_{0})+\\gamma_0 X_i + T_i(\\gamma_1-\\gamma_0)X_i\n",
    "    \\\\\n",
    "    \\\\\n",
    "    &\\tau = \\mathbb{E}(Y_i|T_i=1, X_i)-\\mathbb{E}(Y_i|T_i=0, X_i)=\\\\\n",
    "    &(\\mu_1-\\mu_0)+X_i(\\gamma_1-\\gamma_0)\n",
    "\\end{align*}\n",
    "Thus, $\\tau$ is the causal ATE when the regression lines for the potential outcomes are parallel i.e. $\\gamma_0=\\gamma_1$.\n"
   ]
  },
  {
   "cell_type": "markdown",
   "id": "cfe8bf3a",
   "metadata": {},
   "source": [
    "## Identification"
   ]
  },
  {
   "cell_type": "markdown",
   "id": "3e085eee",
   "metadata": {
    "ExecuteTime": {
     "end_time": "2022-05-04T14:21:04.928771Z",
     "start_time": "2022-05-04T14:21:04.794251Z"
    }
   },
   "source": [
    "<img src=\"data:image/png;base64,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\" width=\"800\"/>"
   ]
  },
  {
   "cell_type": "markdown",
   "id": "1a334483",
   "metadata": {},
   "source": [
    "- Causal estimand: $\\mathbb{E}(Y_i(1)-Y(0))$ \n",
    "- Identified statistical estimand: $\\mathbb{E}_X[\\mathbb{E}[Y_i|T_i=1, X_i]-\\mathbb{E}[Y_i|T_i=0, X_i]]$ (given the modularity assumption, backdoor criterion and positivity assumption)\n",
    "- Regression estimator: $\\frac{1}{n} \\sum^{n}_{i}[(\\hat{\\mu}_{.} + \\hat{\\tau} +\\hat{\\gamma} x_i)-(\\hat{\\mu}_{.} +\\hat{\\gamma} x_i)] = \\hat{\\tau}$"
   ]
  }
 ],
 "metadata": {
  "kernelspec": {
   "display_name": "Python 3 (ipykernel)",
   "language": "python",
   "name": "python3"
  },
  "language_info": {
   "codemirror_mode": {
    "name": "ipython",
    "version": 3
   },
   "file_extension": ".py",
   "mimetype": "text/x-python",
   "name": "python",
   "nbconvert_exporter": "python",
   "pygments_lexer": "ipython3",
   "version": "3.8.9"
  }
 },
 "nbformat": 4,
 "nbformat_minor": 5
}
